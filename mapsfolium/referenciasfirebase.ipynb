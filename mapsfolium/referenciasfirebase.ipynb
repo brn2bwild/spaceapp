{
 "cells": [
  {
   "cell_type": "code",
   "execution_count": 5,
   "metadata": {},
   "outputs": [],
   "source": [
    "from firebase import firebase\n",
    "\n",
    "firebase = firebase.FirebaseApplication('https://spaceapps-data.firebaseio.com/', None)\n",
    "\n",
    "referencias = {\n",
    "    'lat':'17.858353',\n",
    "    'lng':'-92.490270',\n",
    "    'name':'Macuspana'\n",
    "}\n",
    "\n",
    "resultado = firebase.post('/referencias/',referencias);"
   ]
  },
  {
   "cell_type": "code",
   "execution_count": null,
   "metadata": {},
   "outputs": [],
   "source": []
  }
 ],
 "metadata": {
  "kernelspec": {
   "display_name": "Python 3",
   "language": "python",
   "name": "python3"
  },
  "language_info": {
   "codemirror_mode": {
    "name": "ipython",
    "version": 3
   },
   "file_extension": ".py",
   "mimetype": "text/x-python",
   "name": "python",
   "nbconvert_exporter": "python",
   "pygments_lexer": "ipython3",
   "version": "3.8.0"
  }
 },
 "nbformat": 4,
 "nbformat_minor": 4
}
