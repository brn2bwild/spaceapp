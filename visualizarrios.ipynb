{
 "cells": [
  {
   "cell_type": "code",
   "execution_count": 9,
   "metadata": {},
   "outputs": [],
   "source": [
    "import geopandas as gpd"
   ]
  },
  {
   "cell_type": "code",
   "execution_count": 53,
   "metadata": {
    "scrolled": true
   },
   "outputs": [
    {
     "name": "stderr",
     "output_type": "stream",
     "text": [
      "c:\\users\\casa\\appdata\\local\\programs\\python\\python38\\lib\\site-packages\\pyproj\\crs\\crs.py:53: FutureWarning: '+init=<authority>:<code>' syntax is deprecated. '<authority>:<code>' is the preferred initialization method. When making the change, be mindful of axis order changes: https://pyproj4.github.io/pyproj/stable/gotchas.html#axis-order-changes-in-proj-6\n",
      "  return _prepare_from_string(\" \".join(pjargs))\n"
     ]
    }
   ],
   "source": [
    "file = gpd.read_file(\"datasets/RH30Dc/RH30Dc_ha.shp\")\n",
    "file.crs\n",
    "file.to_crs({'init':'epsg:4326'},inplace=True)\n",
    "file.to_file(\"RH30Dc_ha.shp.json\",driver=\"GeoJSON\")"
   ]
  },
  {
   "cell_type": "code",
   "execution_count": 54,
   "metadata": {},
   "outputs": [
    {
     "data": {
      "text/html": [
       "<iframe src=\"about:blank\" frameborder=\"0\" srcdoc=\"&lt;html&gt;\n",
       "  &lt;head&gt;\n",
       "    &lt;meta http-equiv=&quot;content-type&quot; content=&quot;text/html; charset=UTF-8&quot; /&gt;\n",
       "    &lt;title&gt;pydeck&lt;/title&gt;\n",
       "    &lt;link rel=&quot;stylesheet&quot; href=&quot;https://maxcdn.bootstrapcdn.com/bootstrap/3.2.0/css/bootstrap-theme.min.css&quot; /&gt;\n",
       "    &lt;link rel=&quot;stylesheet&quot; href=&quot;https://maxcdn.bootstrapcdn.com/font-awesome/4.6.3/css/font-awesome.min.css&quot; /&gt;\n",
       "    &lt;script src=&#x27;https://cdn.jsdelivr.net/npm/@deck.gl/jupyter-widget@~8.2.*/dist/index.js&#x27;&gt;&lt;/script&gt;\n",
       "    &lt;style&gt;\n",
       "    body {\n",
       "      margin: 0;\n",
       "      padding: 0;\n",
       "      overflow: hidden;\n",
       "    }\n",
       "\n",
       "    #deck-map-container {\n",
       "      width: 100%;\n",
       "      height: 100%;\n",
       "      background-color: black;\n",
       "    }\n",
       "\n",
       "    #map {\n",
       "      pointer-events: none;\n",
       "      height: 100%;\n",
       "      width: 100%;\n",
       "      position: absolute;\n",
       "      z-index: 1;\n",
       "    }\n",
       "\n",
       "    #deckgl-overlay {\n",
       "      z-index: 2;\n",
       "      background: none;\n",
       "    }\n",
       "\n",
       "    #deck-map-wrapper {\n",
       "      width: 100%;\n",
       "      height: 100%;\n",
       "    }\n",
       "\n",
       "    #deck-container {\n",
       "      width: 100vw;\n",
       "      height: 100vh;\n",
       "    }\n",
       "    &lt;/style&gt;\n",
       "  &lt;/head&gt;\n",
       "  &lt;body&gt;\n",
       "    &lt;div id=&quot;deck-container&quot;&gt;\n",
       "    &lt;/div&gt;\n",
       "  &lt;/body&gt;\n",
       "  &lt;script&gt;\n",
       "    const jsonInput = {&quot;initialViewState&quot;: {&quot;bearing&quot;: -27.36, &quot;latitude&quot;: 17.901482, &quot;longitude&quot;: -92.869169, &quot;maxZoom&quot;: 15, &quot;minZoom&quot;: 2, &quot;pitch&quot;: 40.5, &quot;zoom&quot;: 8}, &quot;layers&quot;: [{&quot;@@type&quot;: &quot;GeoJsonLayer&quot;, &quot;coverage&quot;: 1, &quot;data&quot;: &quot;RH30Dc_ha.shp.json&quot;, &quot;elevationRange&quot;: [0, 3000], &quot;extruded&quot;: true, &quot;getFillColor&quot;: [50, 219, 85, 86], &quot;getLineColor&quot;: [180, 0, 200, 140], &quot;getPosition&quot;: &quot;@@=[lng, lat]&quot;, &quot;getRadius&quot;: 20, &quot;id&quot;: &quot;e75e389c-3bd2-4002-a172-a7a419146599&quot;, &quot;lineWidthMinPixels&quot;: 2, &quot;pickable&quot;: true, &quot;radiusMaxPixels&quot;: 100, &quot;radiusMinPixels&quot;: 10, &quot;radiusScale&quot;: 6}], &quot;mapProvider&quot;: &quot;mapbox&quot;, &quot;mapStyle&quot;: &quot;mapbox://styles/mapbox/dark-v9&quot;, &quot;views&quot;: [{&quot;@@type&quot;: &quot;MapView&quot;, &quot;controller&quot;: true}]};\n",
       "    const MAPBOX_API_KEY = &#x27;pk.eyJ1IjoiYnJuMmJ3aWxkIiwiYSI6ImNrZnNycXpkajBmN3IzMXFxaWtvMnloOXYifQ.PlBbz6Q3ruqI8NMHVhHNQA&#x27;;\n",
       "    const GOOGLE_MAPS_API_KEY = &#x27;None&#x27;;\n",
       "    const tooltip = true;\n",
       "    const customLibraries = null;\n",
       "\n",
       "    const deck = createDeck({\n",
       "      mapboxApiKey: MAPBOX_API_KEY,\n",
       "      googleMapsKey: GOOGLE_MAPS_API_KEY,\n",
       "      container: document.getElementById(&#x27;deck-container&#x27;),\n",
       "      jsonInput,\n",
       "      tooltip,\n",
       "      customLibraries\n",
       "    });\n",
       "\n",
       "  &lt;/script&gt;\n",
       "&lt;/html&gt;\" width=\"100%\" height=500></iframe>"
      ],
      "text/plain": [
       "<IPython.core.display.HTML object>"
      ]
     },
     "execution_count": 54,
     "metadata": {},
     "output_type": "execute_result"
    }
   ],
   "source": [
    "import pydeck as pdk\n",
    "\n",
    "riosierra = (\"RH30Dc_ha.shp.json\")\n",
    "\n",
    "riosierra = pdk.Layer(\n",
    "    'GeoJsonLayer',\n",
    "    riosierra,\n",
    "    get_position=['lng','lat'],\n",
    "    pickable=True,\n",
    "    elevation_range=[0,3000],\n",
    "    extruded=True,\n",
    "    get_radius=20,\n",
    "    radiusScale=6,\n",
    "    radiusMinPixels=10,\n",
    "    radiusMaxPixels=100,\n",
    "    lineWidthMinPixels=2,\n",
    "    get_fill_color=[50,219,85,86],\n",
    "    getLineColor=[180,0,200,140],\n",
    "    coverage=1\n",
    ")\n",
    "\n",
    "view_state = pdk.ViewState(\n",
    "    longitude=-92.869169,\n",
    "    latitude=17.901482,\n",
    "    zoom=8,\n",
    "    min_zoom=2,\n",
    "    max_zoom=15,\n",
    "    pitch=40.5,\n",
    "    bearing=-27.36\n",
    ")\n",
    "\n",
    "r = pdk.Deck(layers=[riosierra], initial_view_state=view_state,mapbox_key=\"pk.eyJ1IjoiYnJuMmJ3aWxkIiwiYSI6ImNrZnNycXpkajBmN3IzMXFxaWtvMnloOXYifQ.PlBbz6Q3ruqI8NMHVhHNQA\")\n",
    "r.to_html()"
   ]
  },
  {
   "cell_type": "code",
   "execution_count": null,
   "metadata": {},
   "outputs": [],
   "source": []
  }
 ],
 "metadata": {
  "kernelspec": {
   "display_name": "Python 3",
   "language": "python",
   "name": "python3"
  },
  "language_info": {
   "codemirror_mode": {
    "name": "ipython",
    "version": 3
   },
   "file_extension": ".py",
   "mimetype": "text/x-python",
   "name": "python",
   "nbconvert_exporter": "python",
   "pygments_lexer": "ipython3",
   "version": "3.8.0"
  }
 },
 "nbformat": 4,
 "nbformat_minor": 4
}
